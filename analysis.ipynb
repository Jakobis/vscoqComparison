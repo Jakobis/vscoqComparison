{
 "cells": [
  {
   "cell_type": "code",
   "execution_count": 1,
   "metadata": {},
   "outputs": [],
   "source": [
    "import pandas\n",
    "from os import listdir\n",
    "\n",
    "files = [pandas.read_csv('out/' + file, sep=';')\n",
    "         for file in listdir('out') if not file.startswith('scores-')]\n",
    "\n",
    "df = pandas.concat(files)"
   ]
  },
  {
   "cell_type": "code",
   "execution_count": 2,
   "metadata": {},
   "outputs": [
    {
     "name": "stderr",
     "output_type": "stream",
     "text": [
      "/tmp/ipykernel_51863/3325441677.py:2: SettingWithCopyWarning: \n",
      "A value is trying to be set on a copy of a slice from a DataFrame\n",
      "\n",
      "See the caveats in the documentation: https://pandas.pydata.org/pandas-docs/stable/user_guide/indexing.html#returning-a-view-versus-a-copy\n",
      "  trimmed.loc[trimmed['Ranking Factor'].isnull(), 'Ranking Factor'] = 0\n",
      "/tmp/ipykernel_51863/3325441677.py:3: SettingWithCopyWarning: \n",
      "A value is trying to be set on a copy of a slice from a DataFrame\n",
      "\n",
      "See the caveats in the documentation: https://pandas.pydata.org/pandas-docs/stable/user_guide/indexing.html#returning-a-view-versus-a-copy\n",
      "  trimmed.loc[trimmed['Size Factor'].isnull(), 'Size Factor'] = 0\n"
     ]
    }
   ],
   "source": [
    "trimmed = df[['Algorithm', 'Ranking Factor', 'Size Factor', 'Index', 'Line', 'Character']]\n",
    "trimmed.loc[trimmed['Ranking Factor'].isnull(), 'Ranking Factor'] = 0\n",
    "trimmed.loc[trimmed['Size Factor'].isnull(), 'Size Factor'] = 0\n",
    "groups = trimmed.groupby(['Algorithm', 'Ranking Factor', 'Size Factor'])"
   ]
  },
  {
   "cell_type": "code",
   "execution_count": 3,
   "metadata": {},
   "outputs": [
    {
     "data": {
      "text/plain": [
       "[(54.36873151658046, ('StructuredTypeEvaluation', 10, 10))]"
      ]
     },
     "execution_count": 3,
     "metadata": {},
     "output_type": "execute_result"
    }
   ],
   "source": [
    "from collections import defaultdict\n",
    "data = []\n",
    "for groupName, frame in groups:\n",
    "    line = -1\n",
    "    ch = -1\n",
    "    lemmaPosition = -1\n",
    "    thisdata = defaultdict(lambda: defaultdict(int))\n",
    "    positionCounts = defaultdict(int)\n",
    "    for resultIndex, l, c in frame[['Index', 'Line', 'Character']].values:\n",
    "        if line != l:\n",
    "            line = l\n",
    "            ch = c\n",
    "            lemmaPosition = 0\n",
    "        if ch != c:\n",
    "            if ch + 1 == c:\n",
    "                lemmaPosition += 1\n",
    "            else:\n",
    "                lemmaPosition = 0\n",
    "            ch = c\n",
    "        thisdata[lemmaPosition][resultIndex] += 1\n",
    "        positionCounts[lemmaPosition] += 1\n",
    "        # print(resultIndex, l, c, lemmaPosition)\n",
    "    grades = defaultdict(int)\n",
    "    for lemmaPosition, results in thisdata.items():\n",
    "        attempts = positionCounts[lemmaPosition]\n",
    "        grades[lemmaPosition] = sum(map(lambda j: results[j] / (j + 1), range(10))) / attempts\n",
    "    a = sum(map(lambda x: grades[x] / (x + 1), range(len(grades))))\n",
    "    b = sum(map(lambda x: 1 / (x+1), range(len(grades))))\n",
    "    score = 100 * ( a / b )\n",
    "    data.append((score, groupName))\n",
    "data.sort(reverse=True)\n",
    "data"
   ]
  },
  {
   "cell_type": "code",
   "execution_count": null,
   "metadata": {},
   "outputs": [],
   "source": []
  }
 ],
 "metadata": {
  "kernelspec": {
   "display_name": "Python 3",
   "language": "python",
   "name": "python3"
  },
  "language_info": {
   "codemirror_mode": {
    "name": "ipython",
    "version": 3
   },
   "file_extension": ".py",
   "mimetype": "text/x-python",
   "name": "python",
   "nbconvert_exporter": "python",
   "pygments_lexer": "ipython3",
   "version": "3.11.3"
  },
  "orig_nbformat": 4
 },
 "nbformat": 4,
 "nbformat_minor": 2
}
